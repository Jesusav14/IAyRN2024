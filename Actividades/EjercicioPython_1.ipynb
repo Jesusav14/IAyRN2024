{
  "nbformat": 4,
  "nbformat_minor": 0,
  "metadata": {
    "colab": {
      "provenance": []
    },
    "kernelspec": {
      "name": "python3",
      "display_name": "Python 3"
    },
    "language_info": {
      "name": "python"
    }
  },
  "cells": [
    {
      "cell_type": "code",
      "execution_count": 1,
      "metadata": {
        "id": "_XY4ojv-UTFU"
      },
      "outputs": [],
      "source": [
        "\"\"\"\n",
        "EjercicioPython_1\n",
        "Jesus Roberto Arriaga Villarreal\n",
        "1995060\n",
        "N4\n",
        "\"\"\""
      ]
    },
    {
      "cell_type": "code",
      "source": [
        "#Desarrolla un algoritmo que le pida al usuario por su nombre y que lo salude con su nombre, excepto si se llama “Ana”, “Juan”, y “Pedro”\n",
        "Nombre= input(\"Dime tu nombre: \")\n",
        "if Nombre== \"Ana\":\n",
        "  print(\"Bye\")\n",
        "elif Nombre== \"Juan\":\n",
        "  print(\"Bye\")\n",
        "elif Nombre== \"Pedro\":\n",
        "  print(\"Bye\")\n",
        "else:\n",
        "  print(\"Hola \" + Nombre + \".\")"
      ],
      "metadata": {
        "colab": {
          "base_uri": "https://localhost:8080/"
        },
        "id": "p3gmOrakILx6",
        "outputId": "abc7dd55-7df2-42cc-b17f-0429c3e2a7ba"
      },
      "execution_count": 44,
      "outputs": [
        {
          "output_type": "stream",
          "name": "stdout",
          "text": [
            "Dime tu nombre: Ana\n",
            "Bye\n"
          ]
        }
      ]
    },
    {
      "cell_type": "code",
      "source": [
        "#Desarrolla un algoritmo que por medio de una función, le pida al usuario una lista de N elementos y como resultado invierta el sentido de la lista.\n",
        "def lista_deelementos (totaldeelem):\n",
        "  for Numero in range(totaldeelem,0,-1):\n",
        "    print(Numero)\n",
        "\n",
        "totaldeelem= int(input(\"¿Cuántos elementos pongo?: \"))\n",
        "lista_deelementos(totaldeelem)"
      ],
      "metadata": {
        "colab": {
          "base_uri": "https://localhost:8080/"
        },
        "id": "uCIwjJjePEtT",
        "outputId": "9d4b4bad-2992-4a06-b9a9-f4fad6e42168"
      },
      "execution_count": 49,
      "outputs": [
        {
          "output_type": "stream",
          "name": "stdout",
          "text": [
            "¿Cuántos elementos pongo?: 5\n",
            "5\n",
            "4\n",
            "3\n",
            "2\n",
            "1\n"
          ]
        }
      ]
    },
    {
      "cell_type": "code",
      "source": [
        "#Desarrolla un algoritmo que le pregunte al usuario cuántos números de la serie de Fibonacci quiere generar y que al final los imprima.\n",
        "N= int(input(\"¿Cuántos números de la serie de Fibonacci quieres generar?: \"))\n",
        "x=0\n",
        "serie=[0,1]\n",
        "print(serie[0])\n",
        "print(serie[1])\n",
        "i=N-2\n",
        "while i>x:\n",
        "  x+=1\n",
        "  n=serie[-1]+serie[-2]\n",
        "  serie.append(n)\n",
        "  print(n)"
      ],
      "metadata": {
        "colab": {
          "base_uri": "https://localhost:8080/"
        },
        "id": "kTsG5SRBQDfj",
        "outputId": "ba40ca56-0537-4488-8831-46fa1878a023"
      },
      "execution_count": 48,
      "outputs": [
        {
          "output_type": "stream",
          "name": "stdout",
          "text": [
            "¿Cuántos números de la serie de Fibonacci quieres generar?: 8\n",
            "0\n",
            "1\n",
            "1\n",
            "2\n",
            "3\n",
            "5\n",
            "8\n",
            "13\n"
          ]
        }
      ]
    },
    {
      "cell_type": "code",
      "source": [
        "#Juego de adivinar el número: Crea un programa que genere un número aleatorio entre 1 y 100, y luego le pida al usuario que adivine el número. El programa debe proporcionar pistas al usuario si el número es mayor o menor que el número objetivo, y seguir solicitando un nuevo intento hasta que el usuario adivine correctamente.\n",
        "import random\n",
        "nrandom= random.randint(1,100)\n",
        "\n",
        "while True:\n",
        "\n",
        "  n_adivinar=int(input(\"¿En qué número crees que estoy pensando?: \"))\n",
        "  if n_adivinar > nrandom:\n",
        "    print(\"El número que dijiste es mayor, di otro\")\n",
        "  elif n_adivinar < nrandom:\n",
        "    print(\"El número que dijiste es menor, di otro\")\n",
        "  else:\n",
        "    print(\"¡Excelente, adivinaste el número!\")\n",
        "    break\n"
      ],
      "metadata": {
        "colab": {
          "base_uri": "https://localhost:8080/"
        },
        "id": "jm8pn8ikci7l",
        "outputId": "463ec1b2-5a49-498a-b791-f534a50dd2a8"
      },
      "execution_count": 60,
      "outputs": [
        {
          "output_type": "stream",
          "name": "stdout",
          "text": [
            "¿En qué número crees que estoy pensando?: 30\n",
            "El número que dijiste es menor, di otro\n",
            "¿En qué número crees que estoy pensando?: 90\n",
            "El número que dijiste es mayor, di otro\n",
            "¿En qué número crees que estoy pensando?: 50\n",
            "El número que dijiste es menor, di otro\n",
            "¿En qué número crees que estoy pensando?: 60\n",
            "El número que dijiste es menor, di otro\n",
            "¿En qué número crees que estoy pensando?: 70\n",
            "El número que dijiste es mayor, di otro\n",
            "¿En qué número crees que estoy pensando?: 65\n",
            "El número que dijiste es menor, di otro\n",
            "¿En qué número crees que estoy pensando?: 66\n",
            "¡Excelente, adivinaste el número!\n"
          ]
        }
      ]
    },
    {
      "cell_type": "code",
      "source": [
        "#Ejercicio de cálculo de números primos en un rango dado: Escribe un programa que solicite al usuario un rango de números y muestre todos los números primos dentro de ese rango.\n",
        "def nprimo(n):\n",
        "    if n < 2:\n",
        "        return False\n",
        "    for i in range(2, int(n ** 0.5) + 1):\n",
        "        if n % i == 0:\n",
        "            return False\n",
        "    return True\n",
        "\n",
        "a = int(input(\"Ingresa tu primer número: \"))\n",
        "b = int(input(\"Ingresa tu segundo número: \"))\n",
        "rangodelnprimo = [n for n in range(a, b + 1) if nprimo(n)]\n",
        "\n",
        "print(\"Los números primos que hay en este rango son:\")\n",
        "print(rangodelnprimo)"
      ],
      "metadata": {
        "colab": {
          "base_uri": "https://localhost:8080/"
        },
        "id": "IemUxlAxdNDW",
        "outputId": "654efb7b-6f99-4f6b-88df-ae9f11a3d67b"
      },
      "execution_count": 51,
      "outputs": [
        {
          "output_type": "stream",
          "name": "stdout",
          "text": [
            "Ingresa tu primer número: 0\n",
            "Ingresa tu segundo número: 13\n",
            "Los números primos que hay en este rango son:\n",
            "[2, 3, 5, 7, 11, 13]\n"
          ]
        }
      ]
    },
    {
      "cell_type": "code",
      "source": [
        "#Ejercicio de implementación de una calculadora básica utilizando funciones: Escribe un programa que solicite al usuario dos números y realice operaciones básicas como suma, resta, multiplicación y división utilizando funciones separadas para cada operación.\n",
        "a=int(input(\"Ingresa tu primer número: \"))\n",
        "b=int(input(\"Ingresa el segundo número: \"))\n",
        "c=int(input(\"¿Qué operación quieres que haga? 1.- Suma, 2.- Resta, 3.- Multipliación, 4.- División.\"))\n",
        "\n",
        "def Suma():\n",
        "  x=a+b\n",
        "  print(x)\n",
        "\n",
        "def Resta():\n",
        "  x=a-b\n",
        "  print(x)\n",
        "\n",
        "def Multiplicacion():\n",
        "  x=a*b\n",
        "  print(x)\n",
        "\n",
        "def Division():\n",
        "  x=a/b\n",
        "  print(x)\n",
        "\n",
        "if c==1:\n",
        "  Suma()\n",
        "elif c==2:\n",
        "  Resta()\n",
        "elif c==3:\n",
        "  Multiplicacion()\n",
        "elif c==4:\n",
        "  Division()\n",
        "else:\n",
        "  print(\"Esta función no está disponible\")\n"
      ],
      "metadata": {
        "colab": {
          "base_uri": "https://localhost:8080/"
        },
        "id": "s3ydTEKsdWs_",
        "outputId": "794389e4-4c43-497d-e026-6a0e80bcbec6"
      },
      "execution_count": 61,
      "outputs": [
        {
          "output_type": "stream",
          "name": "stdout",
          "text": [
            "Ingresa tu primer número: 5\n",
            "Ingresa el segundo número: 6\n",
            "¿Qué operación quieres que haga? 1.- Suma, 2.- Resta, 3.- Multipliación, 4.- División.2\n",
            "-1\n"
          ]
        }
      ]
    }
  ]
}